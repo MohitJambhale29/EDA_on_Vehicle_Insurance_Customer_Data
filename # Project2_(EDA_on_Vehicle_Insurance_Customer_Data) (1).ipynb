{
 "cells": [
  {
   "cell_type": "markdown",
   "id": "90ae08ea",
   "metadata": {},
   "source": [
    "# A company has customer data that contains 8 columns of customer details and another table having name customer_policy data contains the policy details of the customer."
   ]
  },
  {
   "cell_type": "markdown",
   "id": "78dfcd5f",
   "metadata": {},
   "source": [
    "# The company intends to offer some discount in premium for certain customers. To do that they ask their Data scientist team to get some information. Hence, following tasks DS team decided to perform:"
   ]
  },
  {
   "cell_type": "code",
   "execution_count": 356,
   "id": "a56d833a",
   "metadata": {},
   "outputs": [],
   "source": [
    "import numpy as np\n",
    "import pandas as pd\n",
    "from matplotlib import pyplot as plt\n",
    "import seaborn as sns"
   ]
  },
  {
   "cell_type": "code",
   "execution_count": 357,
   "id": "df5c5a75",
   "metadata": {},
   "outputs": [],
   "source": [
    "customerDetail = pd.read_csv('customer_details.csv')\n",
    "customerPolDetail = pd.read_csv('customer_policy_details.csv')"
   ]
  },
  {
   "cell_type": "markdown",
   "id": "d5d60f54",
   "metadata": {},
   "source": [
    "# 1. Add the column names to both datasets:\n",
    "\n",
    "##  i. Column Name for customer details table:\n",
    "\n",
    "### customer_id, Gender, age,  driving licence present, region code, previously insured,  vehicle age, and vehicle damage."
   ]
  },
  {
   "cell_type": "code",
   "execution_count": 358,
   "id": "eda3f5db",
   "metadata": {},
   "outputs": [
    {
     "data": {
      "text/plain": [
       "Index(['0', '1', '2', '3', '4', '5', '6', '7'], dtype='object')"
      ]
     },
     "execution_count": 358,
     "metadata": {},
     "output_type": "execute_result"
    }
   ],
   "source": [
    "customerDetail.columns"
   ]
  },
  {
   "cell_type": "code",
   "execution_count": 359,
   "id": "44bf8999",
   "metadata": {},
   "outputs": [],
   "source": [
    "customerDetail.rename({'0':'Customer_Id','1':'Gender','2':'Age','3':'Driving Licence Present','4':'Region Code','5':'Previously Insured','6':'Vehicle Age','7':'Vehicle Damage'},axis=1,inplace=True)"
   ]
  },
  {
   "cell_type": "code",
   "execution_count": 360,
   "id": "366f8d2d",
   "metadata": {},
   "outputs": [
    {
     "data": {
      "text/html": [
       "<div>\n",
       "<style scoped>\n",
       "    .dataframe tbody tr th:only-of-type {\n",
       "        vertical-align: middle;\n",
       "    }\n",
       "\n",
       "    .dataframe tbody tr th {\n",
       "        vertical-align: top;\n",
       "    }\n",
       "\n",
       "    .dataframe thead th {\n",
       "        text-align: right;\n",
       "    }\n",
       "</style>\n",
       "<table border=\"1\" class=\"dataframe\">\n",
       "  <thead>\n",
       "    <tr style=\"text-align: right;\">\n",
       "      <th></th>\n",
       "      <th>Customer_Id</th>\n",
       "      <th>Gender</th>\n",
       "      <th>Age</th>\n",
       "      <th>Driving Licence Present</th>\n",
       "      <th>Region Code</th>\n",
       "      <th>Previously Insured</th>\n",
       "      <th>Vehicle Age</th>\n",
       "      <th>Vehicle Damage</th>\n",
       "    </tr>\n",
       "  </thead>\n",
       "  <tbody>\n",
       "    <tr>\n",
       "      <th>0</th>\n",
       "      <td>1.0</td>\n",
       "      <td>Male</td>\n",
       "      <td>44.0</td>\n",
       "      <td>1.0</td>\n",
       "      <td>28.0</td>\n",
       "      <td>0.0</td>\n",
       "      <td>&gt; 2 Years</td>\n",
       "      <td>Yes</td>\n",
       "    </tr>\n",
       "    <tr>\n",
       "      <th>1</th>\n",
       "      <td>2.0</td>\n",
       "      <td>Male</td>\n",
       "      <td>76.0</td>\n",
       "      <td>1.0</td>\n",
       "      <td>3.0</td>\n",
       "      <td>0.0</td>\n",
       "      <td>1-2 Year</td>\n",
       "      <td>No</td>\n",
       "    </tr>\n",
       "    <tr>\n",
       "      <th>2</th>\n",
       "      <td>3.0</td>\n",
       "      <td>Male</td>\n",
       "      <td>47.0</td>\n",
       "      <td>1.0</td>\n",
       "      <td>28.0</td>\n",
       "      <td>0.0</td>\n",
       "      <td>&gt; 2 Years</td>\n",
       "      <td>Yes</td>\n",
       "    </tr>\n",
       "    <tr>\n",
       "      <th>3</th>\n",
       "      <td>4.0</td>\n",
       "      <td>Male</td>\n",
       "      <td>21.0</td>\n",
       "      <td>1.0</td>\n",
       "      <td>11.0</td>\n",
       "      <td>1.0</td>\n",
       "      <td>&lt; 1 Year</td>\n",
       "      <td>No</td>\n",
       "    </tr>\n",
       "    <tr>\n",
       "      <th>4</th>\n",
       "      <td>5.0</td>\n",
       "      <td>Female</td>\n",
       "      <td>29.0</td>\n",
       "      <td>1.0</td>\n",
       "      <td>41.0</td>\n",
       "      <td>1.0</td>\n",
       "      <td>&lt; 1 Year</td>\n",
       "      <td>No</td>\n",
       "    </tr>\n",
       "  </tbody>\n",
       "</table>\n",
       "</div>"
      ],
      "text/plain": [
       "   Customer_Id  Gender   Age  Driving Licence Present  Region Code  \\\n",
       "0          1.0    Male  44.0                      1.0         28.0   \n",
       "1          2.0    Male  76.0                      1.0          3.0   \n",
       "2          3.0    Male  47.0                      1.0         28.0   \n",
       "3          4.0    Male  21.0                      1.0         11.0   \n",
       "4          5.0  Female  29.0                      1.0         41.0   \n",
       "\n",
       "   Previously Insured Vehicle Age Vehicle Damage  \n",
       "0                 0.0   > 2 Years            Yes  \n",
       "1                 0.0    1-2 Year             No  \n",
       "2                 0.0   > 2 Years            Yes  \n",
       "3                 1.0    < 1 Year             No  \n",
       "4                 1.0    < 1 Year             No  "
      ]
     },
     "execution_count": 360,
     "metadata": {},
     "output_type": "execute_result"
    }
   ],
   "source": [
    "customerDetail.head()"
   ]
  },
  {
   "cell_type": "code",
   "execution_count": 361,
   "id": "6e2523d8",
   "metadata": {},
   "outputs": [
    {
     "data": {
      "text/plain": [
       "Index(['Customer_Id', 'Gender', 'Age', 'Driving Licence Present',\n",
       "       'Region Code', 'Previously Insured', 'Vehicle Age', 'Vehicle Damage'],\n",
       "      dtype='object')"
      ]
     },
     "execution_count": 361,
     "metadata": {},
     "output_type": "execute_result"
    }
   ],
   "source": [
    "customerDetail.columns"
   ]
  },
  {
   "cell_type": "markdown",
   "id": "935a2fd7",
   "metadata": {},
   "source": [
    "## ii. Column Name for customer_policy table:\n",
    "### customer_id,  annual premium (in Rs),  sales channel code,  vintage, and  response. "
   ]
  },
  {
   "cell_type": "code",
   "execution_count": 362,
   "id": "6f0467d3",
   "metadata": {},
   "outputs": [
    {
     "data": {
      "text/plain": [
       "Index(['0', '1', '2', '3', '4'], dtype='object')"
      ]
     },
     "execution_count": 362,
     "metadata": {},
     "output_type": "execute_result"
    }
   ],
   "source": [
    "customerPolDetail.columns"
   ]
  },
  {
   "cell_type": "code",
   "execution_count": 363,
   "id": "4ce5fe84",
   "metadata": {},
   "outputs": [],
   "source": [
    "customerPolDetail.rename({'0':'Customer_Id','1':'Annual Premium(Rs)','2':'Sales Channel Code','3':'Vintage','4':'Response'},axis=1,inplace=True)"
   ]
  },
  {
   "cell_type": "code",
   "execution_count": 364,
   "id": "3df98408",
   "metadata": {},
   "outputs": [
    {
     "data": {
      "text/html": [
       "<div>\n",
       "<style scoped>\n",
       "    .dataframe tbody tr th:only-of-type {\n",
       "        vertical-align: middle;\n",
       "    }\n",
       "\n",
       "    .dataframe tbody tr th {\n",
       "        vertical-align: top;\n",
       "    }\n",
       "\n",
       "    .dataframe thead th {\n",
       "        text-align: right;\n",
       "    }\n",
       "</style>\n",
       "<table border=\"1\" class=\"dataframe\">\n",
       "  <thead>\n",
       "    <tr style=\"text-align: right;\">\n",
       "      <th></th>\n",
       "      <th>Customer_Id</th>\n",
       "      <th>Annual Premium(Rs)</th>\n",
       "      <th>Sales Channel Code</th>\n",
       "      <th>Vintage</th>\n",
       "      <th>Response</th>\n",
       "    </tr>\n",
       "  </thead>\n",
       "  <tbody>\n",
       "    <tr>\n",
       "      <th>0</th>\n",
       "      <td>1.0</td>\n",
       "      <td>40454.0</td>\n",
       "      <td>26.0</td>\n",
       "      <td>217.0</td>\n",
       "      <td>1.0</td>\n",
       "    </tr>\n",
       "    <tr>\n",
       "      <th>1</th>\n",
       "      <td>2.0</td>\n",
       "      <td>33536.0</td>\n",
       "      <td>26.0</td>\n",
       "      <td>183.0</td>\n",
       "      <td>0.0</td>\n",
       "    </tr>\n",
       "    <tr>\n",
       "      <th>2</th>\n",
       "      <td>3.0</td>\n",
       "      <td>38294.0</td>\n",
       "      <td>26.0</td>\n",
       "      <td>27.0</td>\n",
       "      <td>1.0</td>\n",
       "    </tr>\n",
       "    <tr>\n",
       "      <th>3</th>\n",
       "      <td>4.0</td>\n",
       "      <td>28619.0</td>\n",
       "      <td>152.0</td>\n",
       "      <td>203.0</td>\n",
       "      <td>0.0</td>\n",
       "    </tr>\n",
       "    <tr>\n",
       "      <th>4</th>\n",
       "      <td>5.0</td>\n",
       "      <td>27496.0</td>\n",
       "      <td>152.0</td>\n",
       "      <td>39.0</td>\n",
       "      <td>0.0</td>\n",
       "    </tr>\n",
       "  </tbody>\n",
       "</table>\n",
       "</div>"
      ],
      "text/plain": [
       "   Customer_Id  Annual Premium(Rs)  Sales Channel Code  Vintage  Response\n",
       "0          1.0             40454.0                26.0    217.0       1.0\n",
       "1          2.0             33536.0                26.0    183.0       0.0\n",
       "2          3.0             38294.0                26.0     27.0       1.0\n",
       "3          4.0             28619.0               152.0    203.0       0.0\n",
       "4          5.0             27496.0               152.0     39.0       0.0"
      ]
     },
     "execution_count": 364,
     "metadata": {},
     "output_type": "execute_result"
    }
   ],
   "source": [
    "customerPolDetail.head()"
   ]
  },
  {
   "cell_type": "code",
   "execution_count": 365,
   "id": "18b4ee54",
   "metadata": {},
   "outputs": [
    {
     "data": {
      "text/plain": [
       "Index(['Customer_Id', 'Annual Premium(Rs)', 'Sales Channel Code', 'Vintage',\n",
       "       'Response'],\n",
       "      dtype='object')"
      ]
     },
     "execution_count": 365,
     "metadata": {},
     "output_type": "execute_result"
    }
   ],
   "source": [
    "customerPolDetail.columns"
   ]
  },
  {
   "cell_type": "markdown",
   "id": "bd2791c0",
   "metadata": {},
   "source": [
    "# 2. Checking and Cleaning Data Quality:\n",
    "\n",
    "## i. Null values\n",
    "\n",
    "### Generate a summary of count of all the null values column wise\n"
   ]
  },
  {
   "cell_type": "code",
   "execution_count": 366,
   "id": "68c8470c",
   "metadata": {},
   "outputs": [
    {
     "data": {
      "text/plain": [
       "Customer_Id                386\n",
       "Gender                     368\n",
       "Age                        368\n",
       "Driving Licence Present    393\n",
       "Region Code                392\n",
       "Previously Insured         381\n",
       "Vehicle Age                381\n",
       "Vehicle Damage             407\n",
       "dtype: int64"
      ]
     },
     "execution_count": 366,
     "metadata": {},
     "output_type": "execute_result"
    }
   ],
   "source": [
    "customerDetail.isnull().sum()"
   ]
  },
  {
   "cell_type": "code",
   "execution_count": 367,
   "id": "07507baa",
   "metadata": {},
   "outputs": [
    {
     "data": {
      "text/plain": [
       "Customer_Id           387\n",
       "Annual Premium(Rs)    346\n",
       "Sales Channel Code    400\n",
       "Vintage               388\n",
       "Response              361\n",
       "dtype: int64"
      ]
     },
     "execution_count": 367,
     "metadata": {},
     "output_type": "execute_result"
    }
   ],
   "source": [
    "customerPolDetail.isnull().sum()"
   ]
  },
  {
   "cell_type": "code",
   "execution_count": 368,
   "id": "c72a8ee3",
   "metadata": {},
   "outputs": [
    {
     "data": {
      "text/plain": [
       "386"
      ]
     },
     "execution_count": 368,
     "metadata": {},
     "output_type": "execute_result"
    }
   ],
   "source": [
    "customerDetail['Customer_Id'].isna().sum()"
   ]
  },
  {
   "cell_type": "code",
   "execution_count": 369,
   "id": "bdb970c2",
   "metadata": {},
   "outputs": [
    {
     "data": {
      "text/plain": [
       "380723"
      ]
     },
     "execution_count": 369,
     "metadata": {},
     "output_type": "execute_result"
    }
   ],
   "source": [
    "customerDetail['Customer_Id'].count()"
   ]
  },
  {
   "cell_type": "code",
   "execution_count": 370,
   "id": "a4c4b1bc",
   "metadata": {},
   "outputs": [
    {
     "data": {
      "text/plain": [
       "387"
      ]
     },
     "execution_count": 370,
     "metadata": {},
     "output_type": "execute_result"
    }
   ],
   "source": [
    "customerPolDetail['Customer_Id'].isna().sum()"
   ]
  },
  {
   "cell_type": "code",
   "execution_count": 371,
   "id": "b60f1658",
   "metadata": {},
   "outputs": [
    {
     "data": {
      "text/plain": [
       "380722"
      ]
     },
     "execution_count": 371,
     "metadata": {},
     "output_type": "execute_result"
    }
   ],
   "source": [
    "customerPolDetail['Customer_Id'].count()"
   ]
  },
  {
   "cell_type": "markdown",
   "id": "be275f66",
   "metadata": {},
   "source": [
    "## Replace all null values for numeric columns by mean.\n",
    "\n",
    "## Drop Null values for customer_id"
   ]
  },
  {
   "cell_type": "code",
   "execution_count": 372,
   "id": "f65926bf",
   "metadata": {},
   "outputs": [],
   "source": [
    "customerDetail=customerDetail.dropna(subset=['Customer_Id'])"
   ]
  },
  {
   "cell_type": "code",
   "execution_count": 373,
   "id": "2c0b0853",
   "metadata": {},
   "outputs": [
    {
     "data": {
      "text/plain": [
       "Customer_Id                  0\n",
       "Gender                     368\n",
       "Age                        366\n",
       "Driving Licence Present    392\n",
       "Region Code                391\n",
       "Previously Insured         381\n",
       "Vehicle Age                381\n",
       "Vehicle Damage             406\n",
       "dtype: int64"
      ]
     },
     "execution_count": 373,
     "metadata": {},
     "output_type": "execute_result"
    }
   ],
   "source": [
    "customerDetail.isna().sum()"
   ]
  },
  {
   "cell_type": "code",
   "execution_count": 374,
   "id": "9ca83786",
   "metadata": {},
   "outputs": [],
   "source": [
    "customerPolDetail=customerPolDetail.dropna(subset=['Customer_Id'])"
   ]
  },
  {
   "cell_type": "code",
   "execution_count": 375,
   "id": "f220b7f4",
   "metadata": {},
   "outputs": [
    {
     "data": {
      "text/plain": [
       "Customer_Id             0\n",
       "Annual Premium(Rs)    344\n",
       "Sales Channel Code    400\n",
       "Vintage               388\n",
       "Response              361\n",
       "dtype: int64"
      ]
     },
     "execution_count": 375,
     "metadata": {},
     "output_type": "execute_result"
    }
   ],
   "source": [
    "customerPolDetail.isna().sum()"
   ]
  },
  {
   "cell_type": "code",
   "execution_count": 376,
   "id": "d911a579",
   "metadata": {},
   "outputs": [],
   "source": [
    "customerPolDetail.fillna(customerPolDetail.mean().mean(),inplace=True)"
   ]
  },
  {
   "cell_type": "code",
   "execution_count": 377,
   "id": "15797a99",
   "metadata": {},
   "outputs": [
    {
     "data": {
      "text/plain": [
       "Customer_Id           0\n",
       "Annual Premium(Rs)    0\n",
       "Sales Channel Code    0\n",
       "Vintage               0\n",
       "Response              0\n",
       "dtype: int64"
      ]
     },
     "execution_count": 377,
     "metadata": {},
     "output_type": "execute_result"
    }
   ],
   "source": [
    "customerPolDetail.isna().sum()"
   ]
  },
  {
   "cell_type": "code",
   "execution_count": 378,
   "id": "08b98ff2",
   "metadata": {},
   "outputs": [],
   "source": [
    "customerPolDetail.fillna(customerPolDetail.mean().mean(),inplace=True)"
   ]
  },
  {
   "cell_type": "code",
   "execution_count": 379,
   "id": "ea100b3c",
   "metadata": {},
   "outputs": [
    {
     "data": {
      "text/plain": [
       "Customer_Id                  0\n",
       "Gender                     368\n",
       "Age                        366\n",
       "Driving Licence Present    392\n",
       "Region Code                391\n",
       "Previously Insured         381\n",
       "Vehicle Age                381\n",
       "Vehicle Damage             406\n",
       "dtype: int64"
      ]
     },
     "execution_count": 379,
     "metadata": {},
     "output_type": "execute_result"
    }
   ],
   "source": [
    "customerDetail.isna().sum()"
   ]
  },
  {
   "cell_type": "code",
   "execution_count": 380,
   "id": "ad443770",
   "metadata": {},
   "outputs": [],
   "source": [
    "customerDetail['Gender']=customerDetail['Gender'].fillna(customerDetail['Gender'].mode()[0])\n",
    "customerDetail['Age']=customerDetail['Age'].fillna(customerDetail['Age'].mode()[0])\n",
    "customerDetail['Driving Licence Present']=customerDetail['Driving Licence Present'].fillna(customerDetail['Driving Licence Present'].mode()[0])\n",
    "customerDetail['Region Code']=customerDetail['Region Code'].fillna(customerDetail['Region Code'].mode()[0])\n",
    "customerDetail['Previously Insured']=customerDetail['Previously Insured'].fillna(customerDetail['Previously Insured'].mode()[0])\n",
    "customerDetail['Vehicle Age']=customerDetail['Vehicle Age'].fillna(customerDetail['Vehicle Age'].mode()[0])\n",
    "customerDetail['Vehicle Damage']=customerDetail['Vehicle Damage'].fillna(customerDetail['Vehicle Damage'].mode()[0])"
   ]
  },
  {
   "cell_type": "code",
   "execution_count": 381,
   "id": "32bb7843",
   "metadata": {},
   "outputs": [
    {
     "data": {
      "text/plain": [
       "Customer_Id                0\n",
       "Gender                     0\n",
       "Age                        0\n",
       "Driving Licence Present    0\n",
       "Region Code                0\n",
       "Previously Insured         0\n",
       "Vehicle Age                0\n",
       "Vehicle Damage             0\n",
       "dtype: int64"
      ]
     },
     "execution_count": 381,
     "metadata": {},
     "output_type": "execute_result"
    }
   ],
   "source": [
    "customerDetail.isnull().sum()"
   ]
  },
  {
   "cell_type": "code",
   "execution_count": 382,
   "id": "6727b646",
   "metadata": {},
   "outputs": [
    {
     "name": "stdout",
     "output_type": "stream",
     "text": [
      "<class 'pandas.core.frame.DataFrame'>\n",
      "Int64Index: 380723 entries, 0 to 381108\n",
      "Data columns (total 8 columns):\n",
      " #   Column                   Non-Null Count   Dtype  \n",
      "---  ------                   --------------   -----  \n",
      " 0   Customer_Id              380723 non-null  float64\n",
      " 1   Gender                   380723 non-null  object \n",
      " 2   Age                      380723 non-null  float64\n",
      " 3   Driving Licence Present  380723 non-null  float64\n",
      " 4   Region Code              380723 non-null  float64\n",
      " 5   Previously Insured       380723 non-null  float64\n",
      " 6   Vehicle Age              380723 non-null  object \n",
      " 7   Vehicle Damage           380723 non-null  object \n",
      "dtypes: float64(5), object(3)\n",
      "memory usage: 26.1+ MB\n"
     ]
    }
   ],
   "source": [
    "customerDetail.info()"
   ]
  },
  {
   "cell_type": "markdown",
   "id": "3bf291cd",
   "metadata": {},
   "source": [
    "## ii. Outliers\n",
    "\n",
    "## • Generate a summary of count of all the outliers column wise\n",
    "\n",
    "### (Hint1: for outlier treatment use IQR method as follows:\n",
    "\n",
    "### For example: for a column X calculate Q1 = 25th percentile and Q3 = 75th percentile then IQR = Q3 – Q1 ) then to check outlier, anything lower than a Q1 – 1.5IQR or greater than Q3 + 1.5 IQR would be an outlier\n",
    "\n",
    "### Hint2: For getting percentile value, explore pd.describe() function)"
   ]
  },
  {
   "cell_type": "code",
   "execution_count": 383,
   "id": "88ed2639",
   "metadata": {},
   "outputs": [
    {
     "data": {
      "text/html": [
       "<div>\n",
       "<style scoped>\n",
       "    .dataframe tbody tr th:only-of-type {\n",
       "        vertical-align: middle;\n",
       "    }\n",
       "\n",
       "    .dataframe tbody tr th {\n",
       "        vertical-align: top;\n",
       "    }\n",
       "\n",
       "    .dataframe thead th {\n",
       "        text-align: right;\n",
       "    }\n",
       "</style>\n",
       "<table border=\"1\" class=\"dataframe\">\n",
       "  <thead>\n",
       "    <tr style=\"text-align: right;\">\n",
       "      <th></th>\n",
       "      <th>Customer_Id</th>\n",
       "      <th>Age</th>\n",
       "      <th>Driving Licence Present</th>\n",
       "      <th>Region Code</th>\n",
       "      <th>Previously Insured</th>\n",
       "    </tr>\n",
       "  </thead>\n",
       "  <tbody>\n",
       "    <tr>\n",
       "      <th>count</th>\n",
       "      <td>380723.000000</td>\n",
       "      <td>380723.000000</td>\n",
       "      <td>380723.000000</td>\n",
       "      <td>380723.000000</td>\n",
       "      <td>380723.000000</td>\n",
       "    </tr>\n",
       "    <tr>\n",
       "      <th>mean</th>\n",
       "      <td>190548.776244</td>\n",
       "      <td>38.808538</td>\n",
       "      <td>0.997870</td>\n",
       "      <td>26.391090</td>\n",
       "      <td>0.457800</td>\n",
       "    </tr>\n",
       "    <tr>\n",
       "      <th>std</th>\n",
       "      <td>110016.805160</td>\n",
       "      <td>15.511629</td>\n",
       "      <td>0.046105</td>\n",
       "      <td>13.223772</td>\n",
       "      <td>0.498217</td>\n",
       "    </tr>\n",
       "    <tr>\n",
       "      <th>min</th>\n",
       "      <td>1.000000</td>\n",
       "      <td>20.000000</td>\n",
       "      <td>0.000000</td>\n",
       "      <td>0.000000</td>\n",
       "      <td>0.000000</td>\n",
       "    </tr>\n",
       "    <tr>\n",
       "      <th>25%</th>\n",
       "      <td>95269.500000</td>\n",
       "      <td>25.000000</td>\n",
       "      <td>1.000000</td>\n",
       "      <td>15.000000</td>\n",
       "      <td>0.000000</td>\n",
       "    </tr>\n",
       "    <tr>\n",
       "      <th>50%</th>\n",
       "      <td>190543.000000</td>\n",
       "      <td>36.000000</td>\n",
       "      <td>1.000000</td>\n",
       "      <td>28.000000</td>\n",
       "      <td>0.000000</td>\n",
       "    </tr>\n",
       "    <tr>\n",
       "      <th>75%</th>\n",
       "      <td>285822.500000</td>\n",
       "      <td>49.000000</td>\n",
       "      <td>1.000000</td>\n",
       "      <td>35.000000</td>\n",
       "      <td>1.000000</td>\n",
       "    </tr>\n",
       "    <tr>\n",
       "      <th>max</th>\n",
       "      <td>381109.000000</td>\n",
       "      <td>85.000000</td>\n",
       "      <td>1.000000</td>\n",
       "      <td>52.000000</td>\n",
       "      <td>1.000000</td>\n",
       "    </tr>\n",
       "  </tbody>\n",
       "</table>\n",
       "</div>"
      ],
      "text/plain": [
       "         Customer_Id            Age  Driving Licence Present    Region Code  \\\n",
       "count  380723.000000  380723.000000            380723.000000  380723.000000   \n",
       "mean   190548.776244      38.808538                 0.997870      26.391090   \n",
       "std    110016.805160      15.511629                 0.046105      13.223772   \n",
       "min         1.000000      20.000000                 0.000000       0.000000   \n",
       "25%     95269.500000      25.000000                 1.000000      15.000000   \n",
       "50%    190543.000000      36.000000                 1.000000      28.000000   \n",
       "75%    285822.500000      49.000000                 1.000000      35.000000   \n",
       "max    381109.000000      85.000000                 1.000000      52.000000   \n",
       "\n",
       "       Previously Insured  \n",
       "count       380723.000000  \n",
       "mean             0.457800  \n",
       "std              0.498217  \n",
       "min              0.000000  \n",
       "25%              0.000000  \n",
       "50%              0.000000  \n",
       "75%              1.000000  \n",
       "max              1.000000  "
      ]
     },
     "execution_count": 383,
     "metadata": {},
     "output_type": "execute_result"
    }
   ],
   "source": [
    "customerDetail.describe()"
   ]
  },
  {
   "cell_type": "code",
   "execution_count": 384,
   "id": "ce9f7c4f",
   "metadata": {},
   "outputs": [
    {
     "data": {
      "text/html": [
       "<div>\n",
       "<style scoped>\n",
       "    .dataframe tbody tr th:only-of-type {\n",
       "        vertical-align: middle;\n",
       "    }\n",
       "\n",
       "    .dataframe tbody tr th {\n",
       "        vertical-align: top;\n",
       "    }\n",
       "\n",
       "    .dataframe thead th {\n",
       "        text-align: right;\n",
       "    }\n",
       "</style>\n",
       "<table border=\"1\" class=\"dataframe\">\n",
       "  <thead>\n",
       "    <tr style=\"text-align: right;\">\n",
       "      <th></th>\n",
       "      <th>Customer_Id</th>\n",
       "      <th>Annual Premium(Rs)</th>\n",
       "      <th>Sales Channel Code</th>\n",
       "      <th>Vintage</th>\n",
       "      <th>Response</th>\n",
       "    </tr>\n",
       "  </thead>\n",
       "  <tbody>\n",
       "    <tr>\n",
       "      <th>count</th>\n",
       "      <td>380722.000000</td>\n",
       "      <td>380722.000000</td>\n",
       "      <td>380722.000000</td>\n",
       "      <td>380722.000000</td>\n",
       "      <td>380722.000000</td>\n",
       "    </tr>\n",
       "    <tr>\n",
       "      <th>mean</th>\n",
       "      <td>190547.491663</td>\n",
       "      <td>30576.388841</td>\n",
       "      <td>158.436489</td>\n",
       "      <td>199.311880</td>\n",
       "      <td>42.104463</td>\n",
       "    </tr>\n",
       "    <tr>\n",
       "      <th>std</th>\n",
       "      <td>110013.824148</td>\n",
       "      <td>17195.083416</td>\n",
       "      <td>1431.770977</td>\n",
       "      <td>1410.274933</td>\n",
       "      <td>1362.722574</td>\n",
       "    </tr>\n",
       "    <tr>\n",
       "      <th>min</th>\n",
       "      <td>1.000000</td>\n",
       "      <td>2630.000000</td>\n",
       "      <td>1.000000</td>\n",
       "      <td>10.000000</td>\n",
       "      <td>0.000000</td>\n",
       "    </tr>\n",
       "    <tr>\n",
       "      <th>25%</th>\n",
       "      <td>95276.250000</td>\n",
       "      <td>24416.000000</td>\n",
       "      <td>29.000000</td>\n",
       "      <td>82.000000</td>\n",
       "      <td>0.000000</td>\n",
       "    </tr>\n",
       "    <tr>\n",
       "      <th>50%</th>\n",
       "      <td>190536.500000</td>\n",
       "      <td>31680.000000</td>\n",
       "      <td>136.000000</td>\n",
       "      <td>154.000000</td>\n",
       "      <td>0.000000</td>\n",
       "    </tr>\n",
       "    <tr>\n",
       "      <th>75%</th>\n",
       "      <td>285818.750000</td>\n",
       "      <td>39430.000000</td>\n",
       "      <td>152.000000</td>\n",
       "      <td>227.000000</td>\n",
       "      <td>0.000000</td>\n",
       "    </tr>\n",
       "    <tr>\n",
       "      <th>max</th>\n",
       "      <td>381109.000000</td>\n",
       "      <td>540165.000000</td>\n",
       "      <td>44275.599568</td>\n",
       "      <td>44275.599568</td>\n",
       "      <td>44275.599568</td>\n",
       "    </tr>\n",
       "  </tbody>\n",
       "</table>\n",
       "</div>"
      ],
      "text/plain": [
       "         Customer_Id  Annual Premium(Rs)  Sales Channel Code        Vintage  \\\n",
       "count  380722.000000       380722.000000       380722.000000  380722.000000   \n",
       "mean   190547.491663        30576.388841          158.436489     199.311880   \n",
       "std    110013.824148        17195.083416         1431.770977    1410.274933   \n",
       "min         1.000000         2630.000000            1.000000      10.000000   \n",
       "25%     95276.250000        24416.000000           29.000000      82.000000   \n",
       "50%    190536.500000        31680.000000          136.000000     154.000000   \n",
       "75%    285818.750000        39430.000000          152.000000     227.000000   \n",
       "max    381109.000000       540165.000000        44275.599568   44275.599568   \n",
       "\n",
       "            Response  \n",
       "count  380722.000000  \n",
       "mean       42.104463  \n",
       "std      1362.722574  \n",
       "min         0.000000  \n",
       "25%         0.000000  \n",
       "50%         0.000000  \n",
       "75%         0.000000  \n",
       "max     44275.599568  "
      ]
     },
     "execution_count": 384,
     "metadata": {},
     "output_type": "execute_result"
    }
   ],
   "source": [
    "customerPolDetail.describe()"
   ]
  },
  {
   "cell_type": "code",
   "execution_count": 385,
   "id": "6008741e",
   "metadata": {},
   "outputs": [
    {
     "data": {
      "text/plain": [
       "Customer_Id               0\n",
       "Annual Premium(Rs)    10239\n",
       "Sales Channel Code      400\n",
       "Vintage                 388\n",
       "Response              46965\n",
       "dtype: int64"
      ]
     },
     "execution_count": 385,
     "metadata": {},
     "output_type": "execute_result"
    }
   ],
   "source": [
    "q1=customerPolDetail.quantile(0.25)\n",
    "q3=customerPolDetail.quantile(0.75)\n",
    "iqr=q3-q1\n",
    "l=q1-(1.5*iqr)\n",
    "u=q3+(1.5*iqr)\n",
    "((customerPolDetail<l)|(customerPolDetail>u)).sum()"
   ]
  },
  {
   "cell_type": "markdown",
   "id": "7392c7e8",
   "metadata": {},
   "source": [
    "## • Replace all outlier values for numeric columns by mean. "
   ]
  },
  {
   "cell_type": "code",
   "execution_count": 386,
   "id": "609224e4",
   "metadata": {},
   "outputs": [],
   "source": [
    "customerPolDetail['Annual Premium(Rs)']=customerPolDetail['Annual Premium(Rs)'].astype('float')"
   ]
  },
  {
   "cell_type": "code",
   "execution_count": 387,
   "id": "4ff1af9a",
   "metadata": {},
   "outputs": [],
   "source": [
    "q1=customerPolDetail[['Annual Premium(Rs)']].quantile(0.25)\n",
    "q3=customerPolDetail[['Annual Premium(Rs)']].quantile(0.75)"
   ]
  },
  {
   "cell_type": "code",
   "execution_count": 388,
   "id": "ddd4e507",
   "metadata": {},
   "outputs": [],
   "source": [
    "iqr=q3-q1\n",
    "l=q1-(1.5*iqr)\n",
    "u=q3+(1.5*iqr)"
   ]
  },
  {
   "cell_type": "code",
   "execution_count": 389,
   "id": "76462130",
   "metadata": {},
   "outputs": [
    {
     "data": {
      "text/plain": [
       "Annual Premium(Rs)    10239\n",
       "dtype: int64"
      ]
     },
     "execution_count": 389,
     "metadata": {},
     "output_type": "execute_result"
    }
   ],
   "source": [
    "((customerPolDetail[['Annual Premium(Rs)']]<l)|(customerPolDetail[['Annual Premium(Rs)']]>u)).sum()"
   ]
  },
  {
   "cell_type": "markdown",
   "id": "7a5dc906",
   "metadata": {},
   "source": [
    "## iii. White spaces\n",
    "\n",
    "### Remove white spaces"
   ]
  },
  {
   "cell_type": "code",
   "execution_count": 390,
   "id": "d08a9e21",
   "metadata": {},
   "outputs": [
    {
     "data": {
      "text/plain": [
       "0           Male\n",
       "1           Male\n",
       "2           Male\n",
       "3           Male\n",
       "4         Female\n",
       "           ...  \n",
       "381104      Male\n",
       "381105      Male\n",
       "381106      Male\n",
       "381107    Female\n",
       "381108      Male\n",
       "Name: Gender, Length: 380723, dtype: object"
      ]
     },
     "execution_count": 390,
     "metadata": {},
     "output_type": "execute_result"
    }
   ],
   "source": [
    "customerDetail['Gender'].str.strip()"
   ]
  },
  {
   "cell_type": "markdown",
   "id": "c0c7184b",
   "metadata": {},
   "source": [
    "## iv. case correction(lower or upper, any one) "
   ]
  },
  {
   "cell_type": "code",
   "execution_count": 391,
   "id": "73e99e04",
   "metadata": {},
   "outputs": [
    {
     "data": {
      "text/html": [
       "<div>\n",
       "<style scoped>\n",
       "    .dataframe tbody tr th:only-of-type {\n",
       "        vertical-align: middle;\n",
       "    }\n",
       "\n",
       "    .dataframe tbody tr th {\n",
       "        vertical-align: top;\n",
       "    }\n",
       "\n",
       "    .dataframe thead th {\n",
       "        text-align: right;\n",
       "    }\n",
       "</style>\n",
       "<table border=\"1\" class=\"dataframe\">\n",
       "  <thead>\n",
       "    <tr style=\"text-align: right;\">\n",
       "      <th></th>\n",
       "      <th>Customer_Id</th>\n",
       "      <th>Gender</th>\n",
       "      <th>Age</th>\n",
       "      <th>Driving Licence Present</th>\n",
       "      <th>Region Code</th>\n",
       "      <th>Previously Insured</th>\n",
       "      <th>Vehicle Age</th>\n",
       "      <th>Vehicle Damage</th>\n",
       "    </tr>\n",
       "  </thead>\n",
       "  <tbody>\n",
       "    <tr>\n",
       "      <th>0</th>\n",
       "      <td>1.0</td>\n",
       "      <td>Male</td>\n",
       "      <td>44.0</td>\n",
       "      <td>1.0</td>\n",
       "      <td>28.0</td>\n",
       "      <td>0.0</td>\n",
       "      <td>&gt; 2 Years</td>\n",
       "      <td>Yes</td>\n",
       "    </tr>\n",
       "    <tr>\n",
       "      <th>1</th>\n",
       "      <td>2.0</td>\n",
       "      <td>Male</td>\n",
       "      <td>76.0</td>\n",
       "      <td>1.0</td>\n",
       "      <td>3.0</td>\n",
       "      <td>0.0</td>\n",
       "      <td>1-2 Year</td>\n",
       "      <td>No</td>\n",
       "    </tr>\n",
       "    <tr>\n",
       "      <th>2</th>\n",
       "      <td>3.0</td>\n",
       "      <td>Male</td>\n",
       "      <td>47.0</td>\n",
       "      <td>1.0</td>\n",
       "      <td>28.0</td>\n",
       "      <td>0.0</td>\n",
       "      <td>&gt; 2 Years</td>\n",
       "      <td>Yes</td>\n",
       "    </tr>\n",
       "    <tr>\n",
       "      <th>3</th>\n",
       "      <td>4.0</td>\n",
       "      <td>Male</td>\n",
       "      <td>21.0</td>\n",
       "      <td>1.0</td>\n",
       "      <td>11.0</td>\n",
       "      <td>1.0</td>\n",
       "      <td>&lt; 1 Year</td>\n",
       "      <td>No</td>\n",
       "    </tr>\n",
       "    <tr>\n",
       "      <th>4</th>\n",
       "      <td>5.0</td>\n",
       "      <td>Female</td>\n",
       "      <td>29.0</td>\n",
       "      <td>1.0</td>\n",
       "      <td>41.0</td>\n",
       "      <td>1.0</td>\n",
       "      <td>&lt; 1 Year</td>\n",
       "      <td>No</td>\n",
       "    </tr>\n",
       "  </tbody>\n",
       "</table>\n",
       "</div>"
      ],
      "text/plain": [
       "   Customer_Id  Gender   Age  Driving Licence Present  Region Code  \\\n",
       "0          1.0    Male  44.0                      1.0         28.0   \n",
       "1          2.0    Male  76.0                      1.0          3.0   \n",
       "2          3.0    Male  47.0                      1.0         28.0   \n",
       "3          4.0    Male  21.0                      1.0         11.0   \n",
       "4          5.0  Female  29.0                      1.0         41.0   \n",
       "\n",
       "   Previously Insured Vehicle Age Vehicle Damage  \n",
       "0                 0.0   > 2 Years            Yes  \n",
       "1                 0.0    1-2 Year             No  \n",
       "2                 0.0   > 2 Years            Yes  \n",
       "3                 1.0    < 1 Year             No  \n",
       "4                 1.0    < 1 Year             No  "
      ]
     },
     "execution_count": 391,
     "metadata": {},
     "output_type": "execute_result"
    }
   ],
   "source": [
    "customerDetail.apply(lambda x: x.astype(str).str.upper())\n",
    "customerDetail.head()"
   ]
  },
  {
   "cell_type": "markdown",
   "id": "f3cc951f",
   "metadata": {},
   "source": [
    "## v. Convert nominal data (categorical) into dummies \n",
    "\n",
    "### for future modeling use if required   ===> (Remove # for usinf the below program)"
   ]
  },
  {
   "cell_type": "code",
   "execution_count": 392,
   "id": "38000545",
   "metadata": {},
   "outputs": [],
   "source": [
    "#customerDetail=pd.get_dummies(customerDetail)"
   ]
  },
  {
   "cell_type": "code",
   "execution_count": 393,
   "id": "ef452743",
   "metadata": {},
   "outputs": [],
   "source": [
    "#customerDetail.head()"
   ]
  },
  {
   "cell_type": "code",
   "execution_count": 394,
   "id": "1be6cdd1",
   "metadata": {},
   "outputs": [],
   "source": [
    "#customerPolDetail=pd.get_dummies(customerPolDetail)"
   ]
  },
  {
   "cell_type": "code",
   "execution_count": 395,
   "id": "1cfd11fd",
   "metadata": {},
   "outputs": [],
   "source": [
    "#customerPolDetail.head()"
   ]
  },
  {
   "cell_type": "markdown",
   "id": "1338e0d5",
   "metadata": {},
   "source": [
    "## vi. Drop Duplicates (duplicated rows)"
   ]
  },
  {
   "cell_type": "code",
   "execution_count": 396,
   "id": "5884b0a2",
   "metadata": {},
   "outputs": [
    {
     "data": {
      "text/html": [
       "<div>\n",
       "<style scoped>\n",
       "    .dataframe tbody tr th:only-of-type {\n",
       "        vertical-align: middle;\n",
       "    }\n",
       "\n",
       "    .dataframe tbody tr th {\n",
       "        vertical-align: top;\n",
       "    }\n",
       "\n",
       "    .dataframe thead th {\n",
       "        text-align: right;\n",
       "    }\n",
       "</style>\n",
       "<table border=\"1\" class=\"dataframe\">\n",
       "  <thead>\n",
       "    <tr style=\"text-align: right;\">\n",
       "      <th></th>\n",
       "      <th>Customer_Id</th>\n",
       "      <th>Gender</th>\n",
       "      <th>Age</th>\n",
       "      <th>Driving Licence Present</th>\n",
       "      <th>Region Code</th>\n",
       "      <th>Previously Insured</th>\n",
       "      <th>Vehicle Age</th>\n",
       "      <th>Vehicle Damage</th>\n",
       "    </tr>\n",
       "  </thead>\n",
       "  <tbody>\n",
       "    <tr>\n",
       "      <th>0</th>\n",
       "      <td>1.0</td>\n",
       "      <td>Male</td>\n",
       "      <td>44.0</td>\n",
       "      <td>1.0</td>\n",
       "      <td>28.0</td>\n",
       "      <td>0.0</td>\n",
       "      <td>&gt; 2 Years</td>\n",
       "      <td>Yes</td>\n",
       "    </tr>\n",
       "    <tr>\n",
       "      <th>1</th>\n",
       "      <td>2.0</td>\n",
       "      <td>Male</td>\n",
       "      <td>76.0</td>\n",
       "      <td>1.0</td>\n",
       "      <td>3.0</td>\n",
       "      <td>0.0</td>\n",
       "      <td>1-2 Year</td>\n",
       "      <td>No</td>\n",
       "    </tr>\n",
       "    <tr>\n",
       "      <th>2</th>\n",
       "      <td>3.0</td>\n",
       "      <td>Male</td>\n",
       "      <td>47.0</td>\n",
       "      <td>1.0</td>\n",
       "      <td>28.0</td>\n",
       "      <td>0.0</td>\n",
       "      <td>&gt; 2 Years</td>\n",
       "      <td>Yes</td>\n",
       "    </tr>\n",
       "    <tr>\n",
       "      <th>3</th>\n",
       "      <td>4.0</td>\n",
       "      <td>Male</td>\n",
       "      <td>21.0</td>\n",
       "      <td>1.0</td>\n",
       "      <td>11.0</td>\n",
       "      <td>1.0</td>\n",
       "      <td>&lt; 1 Year</td>\n",
       "      <td>No</td>\n",
       "    </tr>\n",
       "    <tr>\n",
       "      <th>4</th>\n",
       "      <td>5.0</td>\n",
       "      <td>Female</td>\n",
       "      <td>29.0</td>\n",
       "      <td>1.0</td>\n",
       "      <td>41.0</td>\n",
       "      <td>1.0</td>\n",
       "      <td>&lt; 1 Year</td>\n",
       "      <td>No</td>\n",
       "    </tr>\n",
       "  </tbody>\n",
       "</table>\n",
       "</div>"
      ],
      "text/plain": [
       "   Customer_Id  Gender   Age  Driving Licence Present  Region Code  \\\n",
       "0          1.0    Male  44.0                      1.0         28.0   \n",
       "1          2.0    Male  76.0                      1.0          3.0   \n",
       "2          3.0    Male  47.0                      1.0         28.0   \n",
       "3          4.0    Male  21.0                      1.0         11.0   \n",
       "4          5.0  Female  29.0                      1.0         41.0   \n",
       "\n",
       "   Previously Insured Vehicle Age Vehicle Damage  \n",
       "0                 0.0   > 2 Years            Yes  \n",
       "1                 0.0    1-2 Year             No  \n",
       "2                 0.0   > 2 Years            Yes  \n",
       "3                 1.0    < 1 Year             No  \n",
       "4                 1.0    < 1 Year             No  "
      ]
     },
     "execution_count": 396,
     "metadata": {},
     "output_type": "execute_result"
    }
   ],
   "source": [
    "customerDetail.drop_duplicates().head()"
   ]
  },
  {
   "cell_type": "markdown",
   "id": "07e9d229",
   "metadata": {},
   "source": [
    "# 3. Create a Master table for future use. Join the customer table and customer_policy table to get a master table using customer_id in both tables.\n",
    "\n",
    "## (Hint: use pd.merge() function)"
   ]
  },
  {
   "cell_type": "code",
   "execution_count": 397,
   "id": "a0b97908",
   "metadata": {},
   "outputs": [
    {
     "data": {
      "text/html": [
       "<div>\n",
       "<style scoped>\n",
       "    .dataframe tbody tr th:only-of-type {\n",
       "        vertical-align: middle;\n",
       "    }\n",
       "\n",
       "    .dataframe tbody tr th {\n",
       "        vertical-align: top;\n",
       "    }\n",
       "\n",
       "    .dataframe thead th {\n",
       "        text-align: right;\n",
       "    }\n",
       "</style>\n",
       "<table border=\"1\" class=\"dataframe\">\n",
       "  <thead>\n",
       "    <tr style=\"text-align: right;\">\n",
       "      <th></th>\n",
       "      <th>Customer_Id</th>\n",
       "      <th>Gender</th>\n",
       "      <th>Age</th>\n",
       "      <th>Driving Licence Present</th>\n",
       "      <th>Region Code</th>\n",
       "      <th>Previously Insured</th>\n",
       "      <th>Vehicle Age</th>\n",
       "      <th>Vehicle Damage</th>\n",
       "    </tr>\n",
       "  </thead>\n",
       "  <tbody>\n",
       "    <tr>\n",
       "      <th>0</th>\n",
       "      <td>1.0</td>\n",
       "      <td>Male</td>\n",
       "      <td>44.0</td>\n",
       "      <td>1.0</td>\n",
       "      <td>28.0</td>\n",
       "      <td>0.0</td>\n",
       "      <td>&gt; 2 Years</td>\n",
       "      <td>Yes</td>\n",
       "    </tr>\n",
       "    <tr>\n",
       "      <th>1</th>\n",
       "      <td>2.0</td>\n",
       "      <td>Male</td>\n",
       "      <td>76.0</td>\n",
       "      <td>1.0</td>\n",
       "      <td>3.0</td>\n",
       "      <td>0.0</td>\n",
       "      <td>1-2 Year</td>\n",
       "      <td>No</td>\n",
       "    </tr>\n",
       "    <tr>\n",
       "      <th>2</th>\n",
       "      <td>3.0</td>\n",
       "      <td>Male</td>\n",
       "      <td>47.0</td>\n",
       "      <td>1.0</td>\n",
       "      <td>28.0</td>\n",
       "      <td>0.0</td>\n",
       "      <td>&gt; 2 Years</td>\n",
       "      <td>Yes</td>\n",
       "    </tr>\n",
       "    <tr>\n",
       "      <th>3</th>\n",
       "      <td>4.0</td>\n",
       "      <td>Male</td>\n",
       "      <td>21.0</td>\n",
       "      <td>1.0</td>\n",
       "      <td>11.0</td>\n",
       "      <td>1.0</td>\n",
       "      <td>&lt; 1 Year</td>\n",
       "      <td>No</td>\n",
       "    </tr>\n",
       "    <tr>\n",
       "      <th>4</th>\n",
       "      <td>5.0</td>\n",
       "      <td>Female</td>\n",
       "      <td>29.0</td>\n",
       "      <td>1.0</td>\n",
       "      <td>41.0</td>\n",
       "      <td>1.0</td>\n",
       "      <td>&lt; 1 Year</td>\n",
       "      <td>No</td>\n",
       "    </tr>\n",
       "    <tr>\n",
       "      <th>...</th>\n",
       "      <td>...</td>\n",
       "      <td>...</td>\n",
       "      <td>...</td>\n",
       "      <td>...</td>\n",
       "      <td>...</td>\n",
       "      <td>...</td>\n",
       "      <td>...</td>\n",
       "      <td>...</td>\n",
       "    </tr>\n",
       "    <tr>\n",
       "      <th>381104</th>\n",
       "      <td>381105.0</td>\n",
       "      <td>Male</td>\n",
       "      <td>74.0</td>\n",
       "      <td>1.0</td>\n",
       "      <td>26.0</td>\n",
       "      <td>1.0</td>\n",
       "      <td>1-2 Year</td>\n",
       "      <td>No</td>\n",
       "    </tr>\n",
       "    <tr>\n",
       "      <th>381105</th>\n",
       "      <td>381106.0</td>\n",
       "      <td>Male</td>\n",
       "      <td>30.0</td>\n",
       "      <td>1.0</td>\n",
       "      <td>37.0</td>\n",
       "      <td>1.0</td>\n",
       "      <td>&lt; 1 Year</td>\n",
       "      <td>No</td>\n",
       "    </tr>\n",
       "    <tr>\n",
       "      <th>381106</th>\n",
       "      <td>381107.0</td>\n",
       "      <td>Male</td>\n",
       "      <td>21.0</td>\n",
       "      <td>1.0</td>\n",
       "      <td>30.0</td>\n",
       "      <td>1.0</td>\n",
       "      <td>&lt; 1 Year</td>\n",
       "      <td>No</td>\n",
       "    </tr>\n",
       "    <tr>\n",
       "      <th>381107</th>\n",
       "      <td>381108.0</td>\n",
       "      <td>Female</td>\n",
       "      <td>68.0</td>\n",
       "      <td>1.0</td>\n",
       "      <td>14.0</td>\n",
       "      <td>0.0</td>\n",
       "      <td>&gt; 2 Years</td>\n",
       "      <td>Yes</td>\n",
       "    </tr>\n",
       "    <tr>\n",
       "      <th>381108</th>\n",
       "      <td>381109.0</td>\n",
       "      <td>Male</td>\n",
       "      <td>46.0</td>\n",
       "      <td>1.0</td>\n",
       "      <td>29.0</td>\n",
       "      <td>0.0</td>\n",
       "      <td>1-2 Year</td>\n",
       "      <td>No</td>\n",
       "    </tr>\n",
       "  </tbody>\n",
       "</table>\n",
       "<p>380723 rows × 8 columns</p>\n",
       "</div>"
      ],
      "text/plain": [
       "        Customer_Id  Gender   Age  Driving Licence Present  Region Code  \\\n",
       "0               1.0    Male  44.0                      1.0         28.0   \n",
       "1               2.0    Male  76.0                      1.0          3.0   \n",
       "2               3.0    Male  47.0                      1.0         28.0   \n",
       "3               4.0    Male  21.0                      1.0         11.0   \n",
       "4               5.0  Female  29.0                      1.0         41.0   \n",
       "...             ...     ...   ...                      ...          ...   \n",
       "381104     381105.0    Male  74.0                      1.0         26.0   \n",
       "381105     381106.0    Male  30.0                      1.0         37.0   \n",
       "381106     381107.0    Male  21.0                      1.0         30.0   \n",
       "381107     381108.0  Female  68.0                      1.0         14.0   \n",
       "381108     381109.0    Male  46.0                      1.0         29.0   \n",
       "\n",
       "        Previously Insured Vehicle Age Vehicle Damage  \n",
       "0                      0.0   > 2 Years            Yes  \n",
       "1                      0.0    1-2 Year             No  \n",
       "2                      0.0   > 2 Years            Yes  \n",
       "3                      1.0    < 1 Year             No  \n",
       "4                      1.0    < 1 Year             No  \n",
       "...                    ...         ...            ...  \n",
       "381104                 1.0    1-2 Year             No  \n",
       "381105                 1.0    < 1 Year             No  \n",
       "381106                 1.0    < 1 Year             No  \n",
       "381107                 0.0   > 2 Years            Yes  \n",
       "381108                 0.0    1-2 Year             No  \n",
       "\n",
       "[380723 rows x 8 columns]"
      ]
     },
     "execution_count": 397,
     "metadata": {},
     "output_type": "execute_result"
    }
   ],
   "source": [
    "customerDetail"
   ]
  },
  {
   "cell_type": "code",
   "execution_count": 398,
   "id": "ce3c6eee",
   "metadata": {},
   "outputs": [
    {
     "data": {
      "text/html": [
       "<div>\n",
       "<style scoped>\n",
       "    .dataframe tbody tr th:only-of-type {\n",
       "        vertical-align: middle;\n",
       "    }\n",
       "\n",
       "    .dataframe tbody tr th {\n",
       "        vertical-align: top;\n",
       "    }\n",
       "\n",
       "    .dataframe thead th {\n",
       "        text-align: right;\n",
       "    }\n",
       "</style>\n",
       "<table border=\"1\" class=\"dataframe\">\n",
       "  <thead>\n",
       "    <tr style=\"text-align: right;\">\n",
       "      <th></th>\n",
       "      <th>Customer_Id</th>\n",
       "      <th>Annual Premium(Rs)</th>\n",
       "      <th>Sales Channel Code</th>\n",
       "      <th>Vintage</th>\n",
       "      <th>Response</th>\n",
       "    </tr>\n",
       "  </thead>\n",
       "  <tbody>\n",
       "    <tr>\n",
       "      <th>0</th>\n",
       "      <td>1.0</td>\n",
       "      <td>40454.0</td>\n",
       "      <td>26.0</td>\n",
       "      <td>217.0</td>\n",
       "      <td>1.0</td>\n",
       "    </tr>\n",
       "    <tr>\n",
       "      <th>1</th>\n",
       "      <td>2.0</td>\n",
       "      <td>33536.0</td>\n",
       "      <td>26.0</td>\n",
       "      <td>183.0</td>\n",
       "      <td>0.0</td>\n",
       "    </tr>\n",
       "    <tr>\n",
       "      <th>2</th>\n",
       "      <td>3.0</td>\n",
       "      <td>38294.0</td>\n",
       "      <td>26.0</td>\n",
       "      <td>27.0</td>\n",
       "      <td>1.0</td>\n",
       "    </tr>\n",
       "    <tr>\n",
       "      <th>3</th>\n",
       "      <td>4.0</td>\n",
       "      <td>28619.0</td>\n",
       "      <td>152.0</td>\n",
       "      <td>203.0</td>\n",
       "      <td>0.0</td>\n",
       "    </tr>\n",
       "    <tr>\n",
       "      <th>4</th>\n",
       "      <td>5.0</td>\n",
       "      <td>27496.0</td>\n",
       "      <td>152.0</td>\n",
       "      <td>39.0</td>\n",
       "      <td>0.0</td>\n",
       "    </tr>\n",
       "    <tr>\n",
       "      <th>...</th>\n",
       "      <td>...</td>\n",
       "      <td>...</td>\n",
       "      <td>...</td>\n",
       "      <td>...</td>\n",
       "      <td>...</td>\n",
       "    </tr>\n",
       "    <tr>\n",
       "      <th>381104</th>\n",
       "      <td>381105.0</td>\n",
       "      <td>30170.0</td>\n",
       "      <td>26.0</td>\n",
       "      <td>88.0</td>\n",
       "      <td>0.0</td>\n",
       "    </tr>\n",
       "    <tr>\n",
       "      <th>381105</th>\n",
       "      <td>381106.0</td>\n",
       "      <td>40016.0</td>\n",
       "      <td>152.0</td>\n",
       "      <td>131.0</td>\n",
       "      <td>0.0</td>\n",
       "    </tr>\n",
       "    <tr>\n",
       "      <th>381106</th>\n",
       "      <td>381107.0</td>\n",
       "      <td>35118.0</td>\n",
       "      <td>160.0</td>\n",
       "      <td>161.0</td>\n",
       "      <td>0.0</td>\n",
       "    </tr>\n",
       "    <tr>\n",
       "      <th>381107</th>\n",
       "      <td>381108.0</td>\n",
       "      <td>44617.0</td>\n",
       "      <td>124.0</td>\n",
       "      <td>74.0</td>\n",
       "      <td>0.0</td>\n",
       "    </tr>\n",
       "    <tr>\n",
       "      <th>381108</th>\n",
       "      <td>381109.0</td>\n",
       "      <td>41777.0</td>\n",
       "      <td>26.0</td>\n",
       "      <td>237.0</td>\n",
       "      <td>0.0</td>\n",
       "    </tr>\n",
       "  </tbody>\n",
       "</table>\n",
       "<p>380722 rows × 5 columns</p>\n",
       "</div>"
      ],
      "text/plain": [
       "        Customer_Id  Annual Premium(Rs)  Sales Channel Code  Vintage  Response\n",
       "0               1.0             40454.0                26.0    217.0       1.0\n",
       "1               2.0             33536.0                26.0    183.0       0.0\n",
       "2               3.0             38294.0                26.0     27.0       1.0\n",
       "3               4.0             28619.0               152.0    203.0       0.0\n",
       "4               5.0             27496.0               152.0     39.0       0.0\n",
       "...             ...                 ...                 ...      ...       ...\n",
       "381104     381105.0             30170.0                26.0     88.0       0.0\n",
       "381105     381106.0             40016.0               152.0    131.0       0.0\n",
       "381106     381107.0             35118.0               160.0    161.0       0.0\n",
       "381107     381108.0             44617.0               124.0     74.0       0.0\n",
       "381108     381109.0             41777.0                26.0    237.0       0.0\n",
       "\n",
       "[380722 rows x 5 columns]"
      ]
     },
     "execution_count": 398,
     "metadata": {},
     "output_type": "execute_result"
    }
   ],
   "source": [
    "customerPolDetail"
   ]
  },
  {
   "cell_type": "code",
   "execution_count": 399,
   "id": "f276181e",
   "metadata": {},
   "outputs": [],
   "source": [
    "master_table = pd.merge(customerDetail,customerPolDetail)"
   ]
  },
  {
   "cell_type": "code",
   "execution_count": 400,
   "id": "e2fa2a23",
   "metadata": {},
   "outputs": [
    {
     "data": {
      "text/html": [
       "<div>\n",
       "<style scoped>\n",
       "    .dataframe tbody tr th:only-of-type {\n",
       "        vertical-align: middle;\n",
       "    }\n",
       "\n",
       "    .dataframe tbody tr th {\n",
       "        vertical-align: top;\n",
       "    }\n",
       "\n",
       "    .dataframe thead th {\n",
       "        text-align: right;\n",
       "    }\n",
       "</style>\n",
       "<table border=\"1\" class=\"dataframe\">\n",
       "  <thead>\n",
       "    <tr style=\"text-align: right;\">\n",
       "      <th></th>\n",
       "      <th>Customer_Id</th>\n",
       "      <th>Gender</th>\n",
       "      <th>Age</th>\n",
       "      <th>Driving Licence Present</th>\n",
       "      <th>Region Code</th>\n",
       "      <th>Previously Insured</th>\n",
       "      <th>Vehicle Age</th>\n",
       "      <th>Vehicle Damage</th>\n",
       "      <th>Annual Premium(Rs)</th>\n",
       "      <th>Sales Channel Code</th>\n",
       "      <th>Vintage</th>\n",
       "      <th>Response</th>\n",
       "    </tr>\n",
       "  </thead>\n",
       "  <tbody>\n",
       "    <tr>\n",
       "      <th>0</th>\n",
       "      <td>1.0</td>\n",
       "      <td>Male</td>\n",
       "      <td>44</td>\n",
       "      <td>1.0</td>\n",
       "      <td>28.0</td>\n",
       "      <td>0.0</td>\n",
       "      <td>&gt; 2 Years</td>\n",
       "      <td>Yes</td>\n",
       "      <td>40454.0</td>\n",
       "      <td>26.0</td>\n",
       "      <td>217.0</td>\n",
       "      <td>1.0</td>\n",
       "    </tr>\n",
       "    <tr>\n",
       "      <th>1</th>\n",
       "      <td>2.0</td>\n",
       "      <td>Male</td>\n",
       "      <td>76</td>\n",
       "      <td>1.0</td>\n",
       "      <td>3.0</td>\n",
       "      <td>0.0</td>\n",
       "      <td>1-2 Year</td>\n",
       "      <td>No</td>\n",
       "      <td>33536.0</td>\n",
       "      <td>26.0</td>\n",
       "      <td>183.0</td>\n",
       "      <td>0.0</td>\n",
       "    </tr>\n",
       "    <tr>\n",
       "      <th>2</th>\n",
       "      <td>3.0</td>\n",
       "      <td>Male</td>\n",
       "      <td>47</td>\n",
       "      <td>1.0</td>\n",
       "      <td>28.0</td>\n",
       "      <td>0.0</td>\n",
       "      <td>&gt; 2 Years</td>\n",
       "      <td>Yes</td>\n",
       "      <td>38294.0</td>\n",
       "      <td>26.0</td>\n",
       "      <td>27.0</td>\n",
       "      <td>1.0</td>\n",
       "    </tr>\n",
       "    <tr>\n",
       "      <th>3</th>\n",
       "      <td>4.0</td>\n",
       "      <td>Male</td>\n",
       "      <td>21</td>\n",
       "      <td>1.0</td>\n",
       "      <td>11.0</td>\n",
       "      <td>1.0</td>\n",
       "      <td>&lt; 1 Year</td>\n",
       "      <td>No</td>\n",
       "      <td>28619.0</td>\n",
       "      <td>152.0</td>\n",
       "      <td>203.0</td>\n",
       "      <td>0.0</td>\n",
       "    </tr>\n",
       "    <tr>\n",
       "      <th>4</th>\n",
       "      <td>5.0</td>\n",
       "      <td>Female</td>\n",
       "      <td>29</td>\n",
       "      <td>1.0</td>\n",
       "      <td>41.0</td>\n",
       "      <td>1.0</td>\n",
       "      <td>&lt; 1 Year</td>\n",
       "      <td>No</td>\n",
       "      <td>27496.0</td>\n",
       "      <td>152.0</td>\n",
       "      <td>39.0</td>\n",
       "      <td>0.0</td>\n",
       "    </tr>\n",
       "  </tbody>\n",
       "</table>\n",
       "</div>"
      ],
      "text/plain": [
       "   Customer_Id  Gender  Age  Driving Licence Present  Region Code  \\\n",
       "0          1.0    Male   44                      1.0         28.0   \n",
       "1          2.0    Male   76                      1.0          3.0   \n",
       "2          3.0    Male   47                      1.0         28.0   \n",
       "3          4.0    Male   21                      1.0         11.0   \n",
       "4          5.0  Female   29                      1.0         41.0   \n",
       "\n",
       "   Previously Insured Vehicle Age Vehicle Damage  Annual Premium(Rs)  \\\n",
       "0                 0.0   > 2 Years            Yes             40454.0   \n",
       "1                 0.0    1-2 Year             No             33536.0   \n",
       "2                 0.0   > 2 Years            Yes             38294.0   \n",
       "3                 1.0    < 1 Year             No             28619.0   \n",
       "4                 1.0    < 1 Year             No             27496.0   \n",
       "\n",
       "   Sales Channel Code  Vintage  Response  \n",
       "0                26.0    217.0       1.0  \n",
       "1                26.0    183.0       0.0  \n",
       "2                26.0     27.0       1.0  \n",
       "3               152.0    203.0       0.0  \n",
       "4               152.0     39.0       0.0  "
      ]
     },
     "execution_count": 400,
     "metadata": {},
     "output_type": "execute_result"
    }
   ],
   "source": [
    "master_table['Age']=master_table['Age'].astype('int')\n",
    "master_table.head()"
   ]
  },
  {
   "cell_type": "markdown",
   "id": "4c5f356a",
   "metadata": {},
   "source": [
    "# 4. Company needs some important information from the master table to make decisions for future growth.They needs following information:\n",
    "\n",
    "## i. Gender wise average annual premium"
   ]
  },
  {
   "cell_type": "code",
   "execution_count": 401,
   "id": "7ff5ee43",
   "metadata": {},
   "outputs": [
    {
     "data": {
      "text/plain": [
       "Gender\n",
       "Female    30505.151882\n",
       "Male      30635.409127\n",
       "Name: Annual Premium(Rs), dtype: float64"
      ]
     },
     "execution_count": 401,
     "metadata": {},
     "output_type": "execute_result"
    }
   ],
   "source": [
    "master_table.groupby(['Gender'])['Annual Premium(Rs)'].mean()"
   ]
  },
  {
   "cell_type": "code",
   "execution_count": 402,
   "id": "1d7cc628",
   "metadata": {},
   "outputs": [
    {
     "data": {
      "text/plain": [
       "<AxesSubplot:ylabel='Annual Premium(Rs)'>"
      ]
     },
     "execution_count": 402,
     "metadata": {},
     "output_type": "execute_result"
    },
    {
     "data": {
      "image/png": "[encoded data removed]",
      "text/plain": [
       "<Figure size 640x480 with 1 Axes>"
      ]
     },
     "metadata": {},
     "output_type": "display_data"
    }
   ],
   "source": [
    "GEN1 =master_table.groupby(['Gender'])['Annual Premium(Rs)'].mean()\n",
    "GEN1.plot.pie()"
   ]
  },
  {
   "cell_type": "markdown",
   "id": "c514d922",
   "metadata": {},
   "source": [
    "## ii. Age wise average annual premium"
   ]
  },
  {
   "cell_type": "code",
   "execution_count": 403,
   "id": "6d8c2a00",
   "metadata": {},
   "outputs": [
    {
     "data": {
      "text/plain": [
       "Age\n",
       "20    26940.061164\n",
       "21    30573.665891\n",
       "22    30837.557285\n",
       "23    30698.806695\n",
       "24    31200.619093\n",
       "          ...     \n",
       "81    31201.571429\n",
       "82    37705.379310\n",
       "83    31012.727273\n",
       "84    35440.818182\n",
       "85    29792.363636\n",
       "Name: Annual Premium(Rs), Length: 66, dtype: float64"
      ]
     },
     "execution_count": 403,
     "metadata": {},
     "output_type": "execute_result"
    }
   ],
   "source": [
    "master_table.groupby(['Age'])['Annual Premium(Rs)'].mean()"
   ]
  },
  {
   "cell_type": "code",
   "execution_count": 404,
   "id": "5a1615d4",
   "metadata": {},
   "outputs": [
    {
     "data": {
      "text/plain": [
       "<AxesSubplot:xlabel='Age'>"
      ]
     },
     "execution_count": 404,
     "metadata": {},
     "output_type": "execute_result"
    },
    {
     "data": {
      "image/png": "[encoded data removed]",
      "text/plain": [
       "<Figure size 640x480 with 1 Axes>"
      ]
     },
     "metadata": {},
     "output_type": "display_data"
    }
   ],
   "source": [
    "AGE =master_table.groupby(['Age'])['Annual Premium(Rs)'].mean()\n",
    "AGE.plot()"
   ]
  },
  {
   "cell_type": "markdown",
   "id": "2c96a0ac",
   "metadata": {},
   "source": [
    "## iii. Is your data balanced between the genders?\n",
    "\n",
    "### (Hint: Data is balanced if number of counts in each group is approximately same)"
   ]
  },
  {
   "cell_type": "code",
   "execution_count": 405,
   "id": "d3609e82",
   "metadata": {},
   "outputs": [
    {
     "data": {
      "text/plain": [
       "<AxesSubplot:>"
      ]
     },
     "execution_count": 405,
     "metadata": {},
     "output_type": "execute_result"
    },
    {
     "data": {
      "image/png": "[encoded data removed]",
      "text/plain": [
       "<Figure size 640x480 with 1 Axes>"
      ]
     },
     "metadata": {},
     "output_type": "display_data"
    }
   ],
   "source": [
    "Gen = master_table['Gender'].value_counts()\n",
    "Gen.plot.bar()"
   ]
  },
  {
   "cell_type": "markdown",
   "id": "c430e36d",
   "metadata": {},
   "source": [
    "## iv. Vehicle age wise average annual premium."
   ]
  },
  {
   "cell_type": "code",
   "execution_count": 406,
   "id": "1055fff5",
   "metadata": {},
   "outputs": [
    {
     "data": {
      "text/plain": [
       "<AxesSubplot:xlabel='Vehicle Age'>"
      ]
     },
     "execution_count": 406,
     "metadata": {},
     "output_type": "execute_result"
    },
    {
     "data": {
      "image/png": "[encoded data removed]",
      "text/plain": [
       "<Figure size 640x480 with 1 Axes>"
      ]
     },
     "metadata": {},
     "output_type": "display_data"
    }
   ],
   "source": [
    "AP_VA = master_table.groupby(['Vehicle Age'])['Annual Premium(Rs)'].mean()\n",
    "AP_VA.plot.bar()"
   ]
  },
  {
   "cell_type": "markdown",
   "id": "a56532af",
   "metadata": {},
   "source": [
    "# 5. Is there any relation between Person Age and annual premium?\n",
    "\n",
    "## Hint: use correlation function (Correlation describes the relationship between two variables). \n",
    "\n",
    "### Correlation coefficient < -0.5           - Strong negative relationship\n",
    "\n",
    "### Correlation coefficient > 0.5            -  Strong positive relationship\n",
    "\n",
    "### 0.5 < Correlation coefficient < 0.5   - There is no relationship. "
   ]
  },
  {
   "cell_type": "code",
   "execution_count": 407,
   "id": "fe17c7be",
   "metadata": {},
   "outputs": [
    {
     "data": {
      "text/html": [
       "<div>\n",
       "<style scoped>\n",
       "    .dataframe tbody tr th:only-of-type {\n",
       "        vertical-align: middle;\n",
       "    }\n",
       "\n",
       "    .dataframe tbody tr th {\n",
       "        vertical-align: top;\n",
       "    }\n",
       "\n",
       "    .dataframe thead th {\n",
       "        text-align: right;\n",
       "    }\n",
       "</style>\n",
       "<table border=\"1\" class=\"dataframe\">\n",
       "  <thead>\n",
       "    <tr style=\"text-align: right;\">\n",
       "      <th></th>\n",
       "      <th>Customer_Id</th>\n",
       "      <th>Age</th>\n",
       "      <th>Driving Licence Present</th>\n",
       "      <th>Region Code</th>\n",
       "      <th>Previously Insured</th>\n",
       "      <th>Annual Premium(Rs)</th>\n",
       "      <th>Sales Channel Code</th>\n",
       "      <th>Vintage</th>\n",
       "      <th>Response</th>\n",
       "    </tr>\n",
       "  </thead>\n",
       "  <tbody>\n",
       "    <tr>\n",
       "      <th>Customer_Id</th>\n",
       "      <td>1.000000</td>\n",
       "      <td>0.001764</td>\n",
       "      <td>-0.000476</td>\n",
       "      <td>-0.000727</td>\n",
       "      <td>0.002464</td>\n",
       "      <td>0.003068</td>\n",
       "      <td>-0.001465</td>\n",
       "      <td>0.000826</td>\n",
       "      <td>0.000939</td>\n",
       "    </tr>\n",
       "    <tr>\n",
       "      <th>Age</th>\n",
       "      <td>0.001764</td>\n",
       "      <td>1.000000</td>\n",
       "      <td>-0.079523</td>\n",
       "      <td>0.042538</td>\n",
       "      <td>-0.254211</td>\n",
       "      <td>0.067695</td>\n",
       "      <td>-0.023459</td>\n",
       "      <td>-0.000098</td>\n",
       "      <td>-0.001318</td>\n",
       "    </tr>\n",
       "    <tr>\n",
       "      <th>Driving Licence Present</th>\n",
       "      <td>-0.000476</td>\n",
       "      <td>-0.079523</td>\n",
       "      <td>1.000000</td>\n",
       "      <td>-0.001063</td>\n",
       "      <td>0.014905</td>\n",
       "      <td>-0.012062</td>\n",
       "      <td>0.003157</td>\n",
       "      <td>-0.000358</td>\n",
       "      <td>-0.002282</td>\n",
       "    </tr>\n",
       "    <tr>\n",
       "      <th>Region Code</th>\n",
       "      <td>-0.000727</td>\n",
       "      <td>0.042538</td>\n",
       "      <td>-0.001063</td>\n",
       "      <td>1.000000</td>\n",
       "      <td>-0.024625</td>\n",
       "      <td>-0.010629</td>\n",
       "      <td>-0.004257</td>\n",
       "      <td>0.001716</td>\n",
       "      <td>0.001691</td>\n",
       "    </tr>\n",
       "    <tr>\n",
       "      <th>Previously Insured</th>\n",
       "      <td>0.002464</td>\n",
       "      <td>-0.254211</td>\n",
       "      <td>0.014905</td>\n",
       "      <td>-0.024625</td>\n",
       "      <td>1.000000</td>\n",
       "      <td>0.004454</td>\n",
       "      <td>0.007695</td>\n",
       "      <td>-0.001117</td>\n",
       "      <td>0.000293</td>\n",
       "    </tr>\n",
       "    <tr>\n",
       "      <th>Annual Premium(Rs)</th>\n",
       "      <td>0.003068</td>\n",
       "      <td>0.067695</td>\n",
       "      <td>-0.012062</td>\n",
       "      <td>-0.010629</td>\n",
       "      <td>0.004454</td>\n",
       "      <td>1.000000</td>\n",
       "      <td>-0.004937</td>\n",
       "      <td>0.001383</td>\n",
       "      <td>-0.002410</td>\n",
       "    </tr>\n",
       "    <tr>\n",
       "      <th>Sales Channel Code</th>\n",
       "      <td>-0.001465</td>\n",
       "      <td>-0.023459</td>\n",
       "      <td>0.003157</td>\n",
       "      <td>-0.004257</td>\n",
       "      <td>0.007695</td>\n",
       "      <td>-0.004937</td>\n",
       "      <td>1.000000</td>\n",
       "      <td>0.001736</td>\n",
       "      <td>-0.000984</td>\n",
       "    </tr>\n",
       "    <tr>\n",
       "      <th>Vintage</th>\n",
       "      <td>0.000826</td>\n",
       "      <td>-0.000098</td>\n",
       "      <td>-0.000358</td>\n",
       "      <td>0.001716</td>\n",
       "      <td>-0.001117</td>\n",
       "      <td>0.001383</td>\n",
       "      <td>0.001736</td>\n",
       "      <td>1.000000</td>\n",
       "      <td>-0.001021</td>\n",
       "    </tr>\n",
       "    <tr>\n",
       "      <th>Response</th>\n",
       "      <td>0.000939</td>\n",
       "      <td>-0.001318</td>\n",
       "      <td>-0.002282</td>\n",
       "      <td>0.001691</td>\n",
       "      <td>0.000293</td>\n",
       "      <td>-0.002410</td>\n",
       "      <td>-0.000984</td>\n",
       "      <td>-0.001021</td>\n",
       "      <td>1.000000</td>\n",
       "    </tr>\n",
       "  </tbody>\n",
       "</table>\n",
       "</div>"
      ],
      "text/plain": [
       "                         Customer_Id       Age  Driving Licence Present  \\\n",
       "Customer_Id                 1.000000  0.001764                -0.000476   \n",
       "Age                         0.001764  1.000000                -0.079523   \n",
       "Driving Licence Present    -0.000476 -0.079523                 1.000000   \n",
       "Region Code                -0.000727  0.042538                -0.001063   \n",
       "Previously Insured          0.002464 -0.254211                 0.014905   \n",
       "Annual Premium(Rs)          0.003068  0.067695                -0.012062   \n",
       "Sales Channel Code         -0.001465 -0.023459                 0.003157   \n",
       "Vintage                     0.000826 -0.000098                -0.000358   \n",
       "Response                    0.000939 -0.001318                -0.002282   \n",
       "\n",
       "                         Region Code  Previously Insured  Annual Premium(Rs)  \\\n",
       "Customer_Id                -0.000727            0.002464            0.003068   \n",
       "Age                         0.042538           -0.254211            0.067695   \n",
       "Driving Licence Present    -0.001063            0.014905           -0.012062   \n",
       "Region Code                 1.000000           -0.024625           -0.010629   \n",
       "Previously Insured         -0.024625            1.000000            0.004454   \n",
       "Annual Premium(Rs)         -0.010629            0.004454            1.000000   \n",
       "Sales Channel Code         -0.004257            0.007695           -0.004937   \n",
       "Vintage                     0.001716           -0.001117            0.001383   \n",
       "Response                    0.001691            0.000293           -0.002410   \n",
       "\n",
       "                         Sales Channel Code   Vintage  Response  \n",
       "Customer_Id                       -0.001465  0.000826  0.000939  \n",
       "Age                               -0.023459 -0.000098 -0.001318  \n",
       "Driving Licence Present            0.003157 -0.000358 -0.002282  \n",
       "Region Code                       -0.004257  0.001716  0.001691  \n",
       "Previously Insured                 0.007695 -0.001117  0.000293  \n",
       "Annual Premium(Rs)                -0.004937  0.001383 -0.002410  \n",
       "Sales Channel Code                 1.000000  0.001736 -0.000984  \n",
       "Vintage                            0.001736  1.000000 -0.001021  \n",
       "Response                          -0.000984 -0.001021  1.000000  "
      ]
     },
     "execution_count": 407,
     "metadata": {},
     "output_type": "execute_result"
    }
   ],
   "source": [
    "master_table.corr()"
   ]
  },
  {
   "cell_type": "code",
   "execution_count": 408,
   "id": "7de4668d",
   "metadata": {},
   "outputs": [
    {
     "data": {
      "text/plain": [
       "array([[1.        , 0.06769523],\n",
       "       [0.06769523, 1.        ]])"
      ]
     },
     "execution_count": 408,
     "metadata": {},
     "output_type": "execute_result"
    }
   ],
   "source": [
    "np.corrcoef(master_table['Age'],master_table['Annual Premium(Rs)'])  "
   ]
  },
  {
   "cell_type": "code",
   "execution_count": 409,
   "id": "7539810d",
   "metadata": {},
   "outputs": [
    {
     "data": {
      "image/png": "[encoded data removed]",
      "text/plain": [
       "<Figure size 640x480 with 2 Axes>"
      ]
     },
     "metadata": {},
     "output_type": "display_data"
    }
   ],
   "source": [
    "corrMatrix = master_table.corr()\n",
    "sns.heatmap(corrMatrix, annot = True)\n",
    "plt.show()"
   ]
  },
  {
   "cell_type": "code",
   "execution_count": null,
   "id": "e800fd66",
   "metadata": {},
   "outputs": [],
   "source": []
  }
 ],
 "metadata": {
  "kernelspec": {
   "display_name": "Python 3 (ipykernel)",
   "language": "python",
   "name": "python3"
  },
  "language_info": {
   "codemirror_mode": {
    "name": "ipython",
    "version": 3
   },
   "file_extension": ".py",
   "mimetype": "text/x-python",
   "name": "python",
   "nbconvert_exporter": "python",
   "pygments_lexer": "ipython3",
   "version": "3.9.13"
  }
 },
 "nbformat": 4,
 "nbformat_minor": 5
}
